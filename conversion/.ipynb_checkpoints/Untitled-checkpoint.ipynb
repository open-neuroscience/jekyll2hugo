{
 "cells": [
  {
   "cell_type": "markdown",
   "metadata": {},
   "source": [
    "# Convert Jekyll pages into hugo pages\n",
    "\n",
    "this script is part of the effort of converting [Open Neuroscience](https://open-neuroscience.com) from Jekyll into Hugo. The reason for this move can be found of the repository, but shortly we want to use built-in features of certain Hugo themes to deliver a more searchable/filterable content.\n",
    "\n",
    "---\n",
    "\n",
    "To convert it will be necessary:\n",
    "- walk down the file tree and grab all file names\n",
    "- create a new tree where all file names are actually folder names\n",
    "- inside each folder create a \"index.md\" file\n",
    " - if there is a featured image on the original page, add it to the folder with name \"featured.jpg\" or \"featured.png\"\n",
    "- inside each index.md file, change headers so they fit the Hugo scheme.\n"
   ]
  },
  {
   "cell_type": "code",
   "execution_count": 1,
   "metadata": {},
   "outputs": [],
   "source": [
    "# import all necessary libraries:\n",
    "\n",
    "import os\n",
    "import shutil\n",
    "import tempfile"
   ]
  },
  {
   "cell_type": "code",
   "execution_count": 3,
   "metadata": {},
   "outputs": [],
   "source": [
    "#grab the file tree\n",
    "\n",
    "treeRoot = \"_pages/\"\n",
    "\n",
    "\n",
    "\n",
    "filePath = []\n",
    "for (dirPath, dirNames, fileNames) in os.walk(treeRoot):\n",
    "    for name in fileNames:\n",
    "        filePath.append(os.path.join(dirPath,name))\n"
   ]
  },
  {
   "cell_type": "code",
   "execution_count": 4,
   "metadata": {},
   "outputs": [],
   "source": [
    "# create new structure with folders and copy file content to the new index.md files\n",
    "\n",
    "newRoot = \"converted/\"\n",
    "for path in filePath:\n",
    "    folderName = path[path.rfind(\"/\")+1:-3]\n",
    "    if not os.path.exists(newRoot+folderName):\n",
    "        os.makedirs(newRoot+folderName)\n",
    "    newFile = newRoot+folderName+\"/index.md\"\n",
    "    if not os.path.isfile(newFile):\n",
    "        #print(newFile)\n",
    "        shutil.copyfile(path, newFile)"
   ]
  },
  {
   "cell_type": "markdown",
   "metadata": {},
   "source": [
    "# hugo page\n",
    "\n",
    "---\n",
    "title: DremelFuge\n",
    "authors: [\"André Maia Chagas\"]\n",
    "layout: post\n",
    "categories: [Benchtop]\n",
    "tags: [\"Benchtop\", \"centrifuges\", \"wet lab\"]\n",
    "---\n",
    "\n",
    "[DremelFuge](https://www.thingiverse.com/thing:1483) is a very simple and clever centrifuge, buit perhaps not the safest one (be careful if you end up using it!).\n",
    "\n",
    "It takes advantage of 3d printing technology to print an adaptor that goes on to a Dremel (a precision tool that has really high rotation rates). It was created by [Cathal](https://www.thingiverse.com/cathalgarvey/about)\n",
    "\n",
    "![3d printed dremel attachment](https://cdn.thingiverse.com/renders/ff/74/4c/b2/c4/2009-12-30-023824_display_large_preview_featured.jpg \"DremelFuge\")\n",
    "\n",
    "# jekyll page\n",
    "\n",
    "---\n",
    "title: DremelFuge\n",
    "author: amchagas\n",
    "featured-img: openneuroscience\n",
    "layout: page\n",
    "categories: [Benchtop]\n",
    "---\n",
    "\n",
    "[DremelFuge](https://www.thingiverse.com/thing:1483) is a very simple and clever centrifuge, buit perhaps not the safest one (be careful if you end up using it!).\n",
    "\n",
    "It takes advantage of 3d printing technology to print an adaptor that goes on to a Dremel (a precision tool that has really high rotation rates). It was created by [Cathal](https://www.thingiverse.com/cathalgarvey/about)\n",
    "\n",
    "![3d printed dremel attachment](https://cdn.thingiverse.com/renders/ff/74/4c/b2/c4/2009-12-30-023824_display_large_preview_featured.jpg \"DremelFuge\")\n",
    "\n",
    "so from this short comparison:\n",
    "title: stays the same\n",
    "authors: should get brackets and quotation marks\n",
    "layout: should be changed from page to post\n",
    "tags: needs to be added\n",
    "categories: can in principle stay the same"
   ]
  },
  {
   "cell_type": "code",
   "execution_count": 5,
   "metadata": {},
   "outputs": [],
   "source": [
    "#now get the new folder structure so we can try to sistematically change content so that it fits the new Hugo system\n",
    "\n",
    "\n",
    "hugoRoot = \"converted/\"\n",
    "\n",
    "\n",
    "\n",
    "hugoPath = []\n",
    "for (dirPath, dirNames, fileNames) in os.walk(hugoRoot):\n",
    "    #print(dirPath)\n",
    "    for name in fileNames:\n",
    "        hugoPath.append(os.path.join(dirPath,name))\n",
    "\n",
    "        \n",
    "\n",
    "for item in hugoPath:\n",
    "    \n",
    "    oldFile = open(item,\"r\")  \n",
    "    newFile = open(item+\"1\",\"w+\")\n",
    "    #with open(newFile) as newfi\n",
    "    for line in oldFile:\n",
    "        #print(line)              \n",
    "        newFile.write(line.replace(\"layout: page\", \"layout: post\"))\n",
    "    oldFile.close()\n",
    "    newFile.close()\n",
    "    shutil.copyfile(newFile.name,item)\n",
    "    os.remove(newFile.name)\n",
    "    \n",
    "    #newFile.close()\n",
    "\n"
   ]
  },
  {
   "cell_type": "code",
   "execution_count": 172,
   "metadata": {},
   "outputs": [
    {
     "ename": "UnicodeDecodeError",
     "evalue": "'utf-8' codec can't decode byte 0xff in position 0: invalid start byte",
     "output_type": "error",
     "traceback": [
      "\u001b[0;31m---------------------------------------------------------------------------\u001b[0m",
      "\u001b[0;31mUnicodeDecodeError\u001b[0m                        Traceback (most recent call last)",
      "\u001b[0;32m<ipython-input-172-3a32ec91f82b>\u001b[0m in \u001b[0;36m<module>\u001b[0;34m\u001b[0m\n\u001b[1;32m     16\u001b[0m     \u001b[0mnewFile\u001b[0m \u001b[0;34m=\u001b[0m \u001b[0mopen\u001b[0m\u001b[0;34m(\u001b[0m\u001b[0mitem\u001b[0m\u001b[0;34m+\u001b[0m\u001b[0;34m\"1\"\u001b[0m\u001b[0;34m,\u001b[0m\u001b[0;34m\"w+\"\u001b[0m\u001b[0;34m)\u001b[0m\u001b[0;34m\u001b[0m\u001b[0;34m\u001b[0m\u001b[0m\n\u001b[1;32m     17\u001b[0m     \u001b[0;31m#with open(newFile) as newfi\u001b[0m\u001b[0;34m\u001b[0m\u001b[0;34m\u001b[0m\u001b[0;34m\u001b[0m\u001b[0m\n\u001b[0;32m---> 18\u001b[0;31m     \u001b[0;32mfor\u001b[0m \u001b[0mline\u001b[0m \u001b[0;32min\u001b[0m \u001b[0moldFile\u001b[0m\u001b[0;34m:\u001b[0m\u001b[0;34m\u001b[0m\u001b[0;34m\u001b[0m\u001b[0m\n\u001b[0m\u001b[1;32m     19\u001b[0m         \u001b[0;31m#print(line)\u001b[0m\u001b[0;34m\u001b[0m\u001b[0;34m\u001b[0m\u001b[0;34m\u001b[0m\u001b[0m\n\u001b[1;32m     20\u001b[0m         \u001b[0mnewFile\u001b[0m\u001b[0;34m.\u001b[0m\u001b[0mwrite\u001b[0m\u001b[0;34m(\u001b[0m\u001b[0mline\u001b[0m\u001b[0;34m.\u001b[0m\u001b[0mreplace\u001b[0m\u001b[0;34m(\u001b[0m\u001b[0;34m\"layout: page\"\u001b[0m\u001b[0;34m,\u001b[0m \u001b[0;34m\"layout: post\"\u001b[0m\u001b[0;34m)\u001b[0m\u001b[0;34m)\u001b[0m\u001b[0;34m\u001b[0m\u001b[0;34m\u001b[0m\u001b[0m\n",
      "\u001b[0;32m~/miniconda3/lib/python3.7/codecs.py\u001b[0m in \u001b[0;36mdecode\u001b[0;34m(self, input, final)\u001b[0m\n\u001b[1;32m    320\u001b[0m         \u001b[0;31m# decode input (taking the buffer into account)\u001b[0m\u001b[0;34m\u001b[0m\u001b[0;34m\u001b[0m\u001b[0;34m\u001b[0m\u001b[0m\n\u001b[1;32m    321\u001b[0m         \u001b[0mdata\u001b[0m \u001b[0;34m=\u001b[0m \u001b[0mself\u001b[0m\u001b[0;34m.\u001b[0m\u001b[0mbuffer\u001b[0m \u001b[0;34m+\u001b[0m \u001b[0minput\u001b[0m\u001b[0;34m\u001b[0m\u001b[0;34m\u001b[0m\u001b[0m\n\u001b[0;32m--> 322\u001b[0;31m         \u001b[0;34m(\u001b[0m\u001b[0mresult\u001b[0m\u001b[0;34m,\u001b[0m \u001b[0mconsumed\u001b[0m\u001b[0;34m)\u001b[0m \u001b[0;34m=\u001b[0m \u001b[0mself\u001b[0m\u001b[0;34m.\u001b[0m\u001b[0m_buffer_decode\u001b[0m\u001b[0;34m(\u001b[0m\u001b[0mdata\u001b[0m\u001b[0;34m,\u001b[0m \u001b[0mself\u001b[0m\u001b[0;34m.\u001b[0m\u001b[0merrors\u001b[0m\u001b[0;34m,\u001b[0m \u001b[0mfinal\u001b[0m\u001b[0;34m)\u001b[0m\u001b[0;34m\u001b[0m\u001b[0;34m\u001b[0m\u001b[0m\n\u001b[0m\u001b[1;32m    323\u001b[0m         \u001b[0;31m# keep undecoded input until the next call\u001b[0m\u001b[0;34m\u001b[0m\u001b[0;34m\u001b[0m\u001b[0;34m\u001b[0m\u001b[0m\n\u001b[1;32m    324\u001b[0m         \u001b[0mself\u001b[0m\u001b[0;34m.\u001b[0m\u001b[0mbuffer\u001b[0m \u001b[0;34m=\u001b[0m \u001b[0mdata\u001b[0m\u001b[0;34m[\u001b[0m\u001b[0mconsumed\u001b[0m\u001b[0;34m:\u001b[0m\u001b[0;34m]\u001b[0m\u001b[0;34m\u001b[0m\u001b[0;34m\u001b[0m\u001b[0m\n",
      "\u001b[0;31mUnicodeDecodeError\u001b[0m: 'utf-8' codec can't decode byte 0xff in position 0: invalid start byte"
     ]
    }
   ],
   "source": []
  },
  {
   "cell_type": "code",
   "execution_count": 173,
   "metadata": {},
   "outputs": [
    {
     "data": {
      "text/plain": [
       "'converted/bio_amp_frontal./index.md'"
      ]
     },
     "execution_count": 173,
     "metadata": {},
     "output_type": "execute_result"
    }
   ],
   "source": [
    "item"
   ]
  },
  {
   "cell_type": "code",
   "execution_count": 170,
   "metadata": {},
   "outputs": [],
   "source": [
    "\n",
    "newFile.close()"
   ]
  },
  {
   "cell_type": "code",
   "execution_count": 150,
   "metadata": {},
   "outputs": [],
   "source": [
    "newFile.close()"
   ]
  },
  {
   "cell_type": "code",
   "execution_count": 154,
   "metadata": {},
   "outputs": [
    {
     "data": {
      "text/plain": [
       "'---\\n'"
      ]
     },
     "execution_count": 154,
     "metadata": {},
     "output_type": "execute_result"
    }
   ],
   "source": [
    "line.replace(\"layout: page\", \"layout: post\")"
   ]
  },
  {
   "cell_type": "code",
   "execution_count": 123,
   "metadata": {},
   "outputs": [],
   "source": [
    "test = line.replace(\"layout: page\", \"layout: post\")"
   ]
  },
  {
   "cell_type": "code",
   "execution_count": 124,
   "metadata": {},
   "outputs": [
    {
     "data": {
      "text/plain": [
       "'&nbsp;\\n'"
      ]
     },
     "execution_count": 124,
     "metadata": {},
     "output_type": "execute_result"
    }
   ],
   "source": [
    "test"
   ]
  },
  {
   "cell_type": "code",
   "execution_count": null,
   "metadata": {},
   "outputs": [],
   "source": []
  }
 ],
 "metadata": {
  "kernelspec": {
   "display_name": "Python 3",
   "language": "python",
   "name": "python3"
  },
  "language_info": {
   "codemirror_mode": {
    "name": "ipython",
    "version": 3
   },
   "file_extension": ".py",
   "mimetype": "text/x-python",
   "name": "python",
   "nbconvert_exporter": "python",
   "pygments_lexer": "ipython3",
   "version": "3.7.4"
  }
 },
 "nbformat": 4,
 "nbformat_minor": 4
}
