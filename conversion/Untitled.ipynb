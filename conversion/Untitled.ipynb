{
 "cells": [
  {
   "cell_type": "markdown",
   "metadata": {},
   "source": [
    "# Convert Jekyll pages into hugo pages\n",
    "\n",
    "this script is part of the effort of converting [Open Neuroscience](https://open-neuroscience.com) from Jekyll into Hugo. The reason for this move can be found of the repository, but shortly we want to use built-in features of certain Hugo themes to deliver a more searchable/filterable content.\n",
    "\n",
    "---\n",
    "\n",
    "To convert it will be necessary:\n",
    "- walk down the file tree and grab all file names\n",
    "- create a new tree where all file names are actually folder names\n",
    "- inside each folder create a \"index.md\" file\n",
    " - if there is a featured image on the original page, add it to the folder with name \"featured.jpg\" or \"featured.png\"\n",
    "- inside each index.md file, change headers so they fit the Hugo scheme.\n"
   ]
  },
  {
   "cell_type": "code",
   "execution_count": 2,
   "metadata": {},
   "outputs": [],
   "source": [
    "# import all necessary libraries:\n",
    "\n",
    "import os\n",
    "import shutil\n",
    "import tempfile"
   ]
  },
  {
   "cell_type": "code",
   "execution_count": 7,
   "metadata": {
    "scrolled": true
   },
   "outputs": [
    {
     "name": "stdout",
     "output_type": "stream",
     "text": [
      "['_pages/other_projects/open-lab-notebooks.md', '_pages/other_projects/crowd-funding.md', '_pages/other_projects/other-interesting-projects.md', '_pages/learning/webportals.md', '_pages/learning/youtube_as_a_resource_for_open_science_hardware.md', '_pages/learning/school_of_data.md', '_pages/learning/tutorials.md', '_pages/learning/tutorials/nose-poke-device-for-rats-using-arduino-and-3d-printed-parts.md', '_pages/learning/tutorials/opening-mcd-files-with-python.md', '_pages/learning/tutorials/human-psychophysics-using-arduino.md', '_pages/learning/tutorials/human-psychophysics-using-arduino/arduino-script-posner-test.md', '_pages/learning/tutorials/human-psychophysics-using-arduino/python-posner-test.md', '_pages/learning/tutorials/human-psychophysics-using-arduino/schematics-posner-test.md', '_pages/main_areas/software.md', '_pages/main_areas/database.md', '_pages/main_areas/learning.md', '_pages/main_areas/hardware.md', '_pages/main_areas/backlog.md', '_pages/main_areas/other.md', '_pages/software/data-acquisition-and-processing.md', '_pages/software/ipipet.md', '_pages/software/psychophysics-toolboxes.md', '_pages/software/linux-distributions.md', '_pages/software/python-numpy-scipy-matplotlib.md', '_pages/software/computer-vision-and-motion-tracking-software.md', '_pages/software/image-office-suits-and-other-general-purpose-software.md', '_pages/software/vision-egg.md', '_pages/software/spike-gadgets.md', '_pages/software/python-for-neuroscience-frontiers-collection.md', '_pages/software/lab-management-software.md', '_pages/software/data_analysis/data_analysis.md', '_pages/software/data_analysis/tensor-flow.md', '_pages/software/data_analysis/brainbrowser.md', '_pages/software/data_analysis/nibabel.md', '_pages/software/data_analysis/pyspace.md', '_pages/software/data_analysis/nipy.md', '_pages/software/data_analysis/fiji.md', '_pages/software/simulation_models/simulation.md', '_pages/software/simulation_models/neuronsneuronsneurons.md', '_pages/software/simulation_models/big-neuron.md', '_pages/software/simulation_models/green-brain.md', '_pages/software/microscopes/ome-open-microscopy-environment.md', '_pages/software/microscopes/microscopes_software.md', '_pages/software/microscopes/micro-manager.md', '_pages/hardware/microcontrollers/microcontrollers.md', '_pages/hardware/benchtop/openspritzer.md', '_pages/hardware/benchtop/benchtop.md', '_pages/hardware/benchtop/centrifuges/OpenFuge.md', '_pages/hardware/benchtop/centrifuges/Gogofuge.md', '_pages/hardware/benchtop/centrifuges/Dremelfuge.md', '_pages/hardware/benchtop/syringe_pumps/syringe_pump1.md', '_pages/hardware/benchtop/thermocyclers/open_pcr.md', '_pages/hardware/benchtop/thermocyclers/5_dollar_pcr.md', '_pages/hardware/benchtop/thermocyclers/DIY_pcr.md', '_pages/hardware/prosthetics_n_robots/prosthetics-and-robotics.md', '_pages/hardware/prosthetics_n_robots/the_yale_open_hand_project.md', '_pages/hardware/prosthetics_n_robots/open-bionics.md', '_pages/hardware/prosthetics_n_robots/fingertip_laser_sensor.md', '_pages/hardware/prosthetics_n_robots/takktile.md', '_pages/hardware/prosthetics_n_robots/open_hand_project.md', '_pages/hardware/prosthetics_n_robots/intelligent_hearing_aid.md', '_pages/hardware/prosthetics_n_robots/super_releaser.md', '_pages/hardware/computer_clusters/computer_clusters.md', '_pages/hardware/computer_clusters/parallela.md', '_pages/hardware/computer_clusters/boinc.md', '_pages/hardware/computer_clusters/raspberry-pi-based.md', '_pages/hardware/computers/red-pitaya.md', '_pages/hardware/computers/computers.md', '_pages/hardware/signal_generators/signal-generators.md', '_pages/hardware/stimulators/stimulators.md', '_pages/hardware/stimulators/optogenetics/optogenetics.md', '_pages/hardware/stimulators/optogenetics/pulse-pal.md', '_pages/hardware/stimulators/electric/tDCS.md', '_pages/hardware/stimulators/visual/BB_LED_matrix.md', '_pages/hardware/stimulators/visual/blinkeschild.md', '_pages/hardware/stimulators/visual/led_panels.md', '_pages/hardware/electrophysiology/electrophysiology.md', '_pages/hardware/electrophysiology/animal/open-ephys.md', '_pages/hardware/electrophysiology/animal/Backyard_brains.md', '_pages/hardware/electrophysiology/human/open_bci.md', '_pages/hardware/electrophysiology/human/bio_amp.md', '_pages/hardware/electrophysiology/human/open_exg.md', '_pages/hardware/electrophysiology/human/attys.md', '_pages/hardware/electrophysiology/human/bpm_biosignal.md', '_pages/hardware/electrophysiology/human/brain_map.md', '_pages/hardware/electrophysiology/human/open_eeg.md', '_pages/hardware/behaviour_tools/autoreward2.md', '_pages/hardware/behaviour_tools/behaviour_tools.md', '_pages/hardware/behaviour_tools/skinnerbox_rpi_python.md', '_pages/hardware/microscopes/openstage.md', '_pages/hardware/microscopes/10_smartphone_microscope.md', '_pages/hardware/microscopes/microscopes.md', '_pages/hardware/microscopes/openflexure.md', '_pages/hardware/microscopes/stereo_microscope.md', '_pages/database/open-science-framework.md', '_pages/database/allen-brain-map.md', '_pages/database/genome-rnai.md', '_pages/database/neuroelectro.md', '_pages/database/addgene.md', '_pages/database/neuroimaging-databases.md', '_pages/database/data-repositories.md', '_pages/database/open-source-brain.md', '_pages/database/neuromorpho.md', '_pages/database/the-visible-human-project.md']\n"
     ]
    }
   ],
   "source": [
    "#grab the file tree\n",
    "\n",
    "treeRoot = \"_pages/\"\n",
    "\n",
    "\n",
    "\n",
    "filePath = []\n",
    "for (dirPath, dirNames, fileNames) in os.walk(treeRoot):\n",
    "    for name in fileNames:\n",
    "        filePath.append(os.path.join(dirPath,name))\n",
    "\n",
    "\n",
    "\n",
    "print(filePath)"
   ]
  },
  {
   "cell_type": "code",
   "execution_count": 11,
   "metadata": {},
   "outputs": [],
   "source": [
    "# create new structure with folders and copy file content to the new index.md files\n",
    "\n",
    "newRoot = \"converted/\"\n",
    "for path in filePath:\n",
    "    folderName = path[path.rfind(\"/\")+1:-3]\n",
    "    if not os.path.exists(newRoot+folderName):\n",
    "        os.makedirs(newRoot+folderName)\n",
    "    newFile = newRoot+folderName+\"/index.md\"\n",
    "    if not os.path.isfile(newFile):\n",
    "        #print(newFile)\n",
    "        shutil.copyfile(path, newFile)"
   ]
  },
  {
   "cell_type": "markdown",
   "metadata": {},
   "source": [
    "# hugo page\n",
    "\n",
    "---\n",
    "title: DremelFuge\n",
    "authors: [\"André Maia Chagas\"]\n",
    "layout: post\n",
    "categories: [Benchtop]\n",
    "tags: [\"Benchtop\", \"centrifuges\", \"wet lab\"]\n",
    "---\n",
    "\n",
    "[DremelFuge](https://www.thingiverse.com/thing:1483) is a very simple and clever centrifuge, buit perhaps not the safest one (be careful if you end up using it!).\n",
    "\n",
    "It takes advantage of 3d printing technology to print an adaptor that goes on to a Dremel (a precision tool that has really high rotation rates). It was created by [Cathal](https://www.thingiverse.com/cathalgarvey/about)\n",
    "\n",
    "![3d printed dremel attachment](https://cdn.thingiverse.com/renders/ff/74/4c/b2/c4/2009-12-30-023824_display_large_preview_featured.jpg \"DremelFuge\")\n",
    "\n",
    "# jekyll page\n",
    "\n",
    "---\n",
    "title: DremelFuge\n",
    "author: amchagas\n",
    "featured-img: openneuroscience\n",
    "layout: page\n",
    "categories: [Benchtop]\n",
    "---\n",
    "\n",
    "[DremelFuge](https://www.thingiverse.com/thing:1483) is a very simple and clever centrifuge, buit perhaps not the safest one (be careful if you end up using it!).\n",
    "\n",
    "It takes advantage of 3d printing technology to print an adaptor that goes on to a Dremel (a precision tool that has really high rotation rates). It was created by [Cathal](https://www.thingiverse.com/cathalgarvey/about)\n",
    "\n",
    "![3d printed dremel attachment](https://cdn.thingiverse.com/renders/ff/74/4c/b2/c4/2009-12-30-023824_display_large_preview_featured.jpg \"DremelFuge\")\n",
    "\n",
    "so from this short comparison:\n",
    "title: stays the same\n",
    "authors: should get brackets and quotation marks\n",
    "layout: should be changed from page to post\n",
    "tags: needs to be added\n",
    "categories: can in principle stay the same"
   ]
  },
  {
   "cell_type": "code",
   "execution_count": 12,
   "metadata": {},
   "outputs": [],
   "source": [
    "#now get the new folder structure so we can try to sistematically change content so that it fits the new Hugo system\n",
    "\n",
    "\n",
    "hugoRoot = \"converted/\"\n",
    "\n",
    "\n",
    "\n",
    "hugoPath = []\n",
    "for (dirPath, dirNames, fileNames) in os.walk(hugoRoot):\n",
    "    #print(dirPath)\n",
    "    for name in fileNames:\n",
    "        hugoPath.append(os.path.join(dirPath,name))\n",
    "\n",
    "        \n",
    "\n",
    "for item in hugoPath:\n",
    "    \n",
    "    oldFile = open(item,\"r\")  \n",
    "    newFile = open(item+\"1\",\"w+\")\n",
    "    #with open(newFile) as newfi\n",
    "    for line in oldFile:\n",
    "        #print(line)\n",
    "        if line.startswith(\"author\"):\n",
    "            newFile.write(line.replace(\"author: amchagas\", \"authors: ['André Maia Chagas']\"))\n",
    "        elif line.startswith(\"layout\"):\n",
    "            newFile.write(line.replace(\"layout: page\", \"layout: post\"))\n",
    "        elif line.startswith(\"categories\"):\n",
    "            cat = line.replace(\"categories: \", \"\")\n",
    "            cat = cat.replace('[', \"\")\n",
    "            cat = cat.replace(\"]\", \"\")\n",
    "            two = \"categories: [\\'\" + cat.replace(\"\\n\", \"\") + \"']\\n\" + \"tags: \" + \"[\\'\" + cat.replace(\"\\n\", \"\") + \"']\" + \"\\n\"\n",
    "            newFile.write(line.replace(line, two))\n",
    "        elif line.startswith(\"featured-img\"):\n",
    "            newFile.write(line.replace(line, \"\\n\"))\n",
    "        else:\n",
    "            newFile.write(line)\n",
    "    oldFile.close()\n",
    "    newFile.close()\n",
    "    shutil.copyfile(newFile.name,item)\n",
    "    os.remove(newFile.name)\n",
    "    \n",
    "    #newFile.close()\n",
    "\n"
   ]
  },
  {
   "cell_type": "code",
   "execution_count": 172,
   "metadata": {
    "scrolled": true
   },
   "outputs": [
    {
     "ename": "UnicodeDecodeError",
     "evalue": "'utf-8' codec can't decode byte 0xff in position 0: invalid start byte",
     "output_type": "error",
     "traceback": [
      "\u001b[0;31m---------------------------------------------------------------------------\u001b[0m",
      "\u001b[0;31mUnicodeDecodeError\u001b[0m                        Traceback (most recent call last)",
      "\u001b[0;32m<ipython-input-172-3a32ec91f82b>\u001b[0m in \u001b[0;36m<module>\u001b[0;34m\u001b[0m\n\u001b[1;32m     16\u001b[0m     \u001b[0mnewFile\u001b[0m \u001b[0;34m=\u001b[0m \u001b[0mopen\u001b[0m\u001b[0;34m(\u001b[0m\u001b[0mitem\u001b[0m\u001b[0;34m+\u001b[0m\u001b[0;34m\"1\"\u001b[0m\u001b[0;34m,\u001b[0m\u001b[0;34m\"w+\"\u001b[0m\u001b[0;34m)\u001b[0m\u001b[0;34m\u001b[0m\u001b[0;34m\u001b[0m\u001b[0m\n\u001b[1;32m     17\u001b[0m     \u001b[0;31m#with open(newFile) as newfi\u001b[0m\u001b[0;34m\u001b[0m\u001b[0;34m\u001b[0m\u001b[0;34m\u001b[0m\u001b[0m\n\u001b[0;32m---> 18\u001b[0;31m     \u001b[0;32mfor\u001b[0m \u001b[0mline\u001b[0m \u001b[0;32min\u001b[0m \u001b[0moldFile\u001b[0m\u001b[0;34m:\u001b[0m\u001b[0;34m\u001b[0m\u001b[0;34m\u001b[0m\u001b[0m\n\u001b[0m\u001b[1;32m     19\u001b[0m         \u001b[0;31m#print(line)\u001b[0m\u001b[0;34m\u001b[0m\u001b[0;34m\u001b[0m\u001b[0;34m\u001b[0m\u001b[0m\n\u001b[1;32m     20\u001b[0m         \u001b[0mnewFile\u001b[0m\u001b[0;34m.\u001b[0m\u001b[0mwrite\u001b[0m\u001b[0;34m(\u001b[0m\u001b[0mline\u001b[0m\u001b[0;34m.\u001b[0m\u001b[0mreplace\u001b[0m\u001b[0;34m(\u001b[0m\u001b[0;34m\"layout: page\"\u001b[0m\u001b[0;34m,\u001b[0m \u001b[0;34m\"layout: post\"\u001b[0m\u001b[0;34m)\u001b[0m\u001b[0;34m)\u001b[0m\u001b[0;34m\u001b[0m\u001b[0;34m\u001b[0m\u001b[0m\n",
      "\u001b[0;32m~/miniconda3/lib/python3.7/codecs.py\u001b[0m in \u001b[0;36mdecode\u001b[0;34m(self, input, final)\u001b[0m\n\u001b[1;32m    320\u001b[0m         \u001b[0;31m# decode input (taking the buffer into account)\u001b[0m\u001b[0;34m\u001b[0m\u001b[0;34m\u001b[0m\u001b[0;34m\u001b[0m\u001b[0m\n\u001b[1;32m    321\u001b[0m         \u001b[0mdata\u001b[0m \u001b[0;34m=\u001b[0m \u001b[0mself\u001b[0m\u001b[0;34m.\u001b[0m\u001b[0mbuffer\u001b[0m \u001b[0;34m+\u001b[0m \u001b[0minput\u001b[0m\u001b[0;34m\u001b[0m\u001b[0;34m\u001b[0m\u001b[0m\n\u001b[0;32m--> 322\u001b[0;31m         \u001b[0;34m(\u001b[0m\u001b[0mresult\u001b[0m\u001b[0;34m,\u001b[0m \u001b[0mconsumed\u001b[0m\u001b[0;34m)\u001b[0m \u001b[0;34m=\u001b[0m \u001b[0mself\u001b[0m\u001b[0;34m.\u001b[0m\u001b[0m_buffer_decode\u001b[0m\u001b[0;34m(\u001b[0m\u001b[0mdata\u001b[0m\u001b[0;34m,\u001b[0m \u001b[0mself\u001b[0m\u001b[0;34m.\u001b[0m\u001b[0merrors\u001b[0m\u001b[0;34m,\u001b[0m \u001b[0mfinal\u001b[0m\u001b[0;34m)\u001b[0m\u001b[0;34m\u001b[0m\u001b[0;34m\u001b[0m\u001b[0m\n\u001b[0m\u001b[1;32m    323\u001b[0m         \u001b[0;31m# keep undecoded input until the next call\u001b[0m\u001b[0;34m\u001b[0m\u001b[0;34m\u001b[0m\u001b[0;34m\u001b[0m\u001b[0m\n\u001b[1;32m    324\u001b[0m         \u001b[0mself\u001b[0m\u001b[0;34m.\u001b[0m\u001b[0mbuffer\u001b[0m \u001b[0;34m=\u001b[0m \u001b[0mdata\u001b[0m\u001b[0;34m[\u001b[0m\u001b[0mconsumed\u001b[0m\u001b[0;34m:\u001b[0m\u001b[0;34m]\u001b[0m\u001b[0;34m\u001b[0m\u001b[0;34m\u001b[0m\u001b[0m\n",
      "\u001b[0;31mUnicodeDecodeError\u001b[0m: 'utf-8' codec can't decode byte 0xff in position 0: invalid start byte"
     ]
    }
   ],
   "source": []
  },
  {
   "cell_type": "code",
   "execution_count": 55,
   "metadata": {},
   "outputs": [
    {
     "name": "stdout",
     "output_type": "stream",
     "text": [
      "Learning\n",
      "\n",
      "<img src=\"https://i2.wp.com/www.instructables.com/files/deriv/FX0/QLMO/HMMF5O43/FX0QLMOHMMF5O43.MEDIUM.jpg?w=800\" alt=\"Vegetal slice\" data-recalc-dims=\"1\" />\n",
      "\n",
      "tags: ['Learning']\n"
     ]
    }
   ],
   "source": [
    "two = line + \"\\n\" + \"tags: \" + \"[\\'\" + cat.replace(\"\\n\", \"\") + \"']\"\n",
    "print(cat)\n",
    "print(two)"
   ]
  },
  {
   "cell_type": "code",
   "execution_count": 10,
   "metadata": {},
   "outputs": [
    {
     "name": "stdout",
     "output_type": "stream",
     "text": [
      "---\n",
      "\n",
      "title: 10$ smartphone microscope\n",
      "\n",
      "authors: ['André Maia Chagas']\n",
      "\n",
      "layout: post\n",
      "\n",
      "categories: ['Microscope']\n",
      "\n",
      "tags: ['Microscope']\n",
      "\n",
      "\n",
      "\n",
      "---\n",
      "\n",
      "This [neat little project](http://www.instructables.com/id/10-Smartphone-to-digital-microscope-conversion/%20how%20to%20use%20a%20smartphone%20for%20big%20amplifications) uses some plexi-glass, lens extracted from a laser pointer to harvest the power of smartphone cameras for some very big amplifications! Yoshinok manged to see cell plasmolysis and some other cool features with it.\n",
      "\n",
      "\n",
      "\n",
      "<span class=\"embed-youtube\" style=\"text-align:center; display: block;\"></span>\n",
      "\n",
      "\n",
      "\n",
      "<img src=\"https://i2.wp.com/www.instructables.com/files/deriv/FPD/UWFL/HMNNFTF0/FPDUWFLHMNNFTF0.MEDIUM.jpg?w=800\" alt=\"10 dollar microsc setup\" data-recalc-dims=\"1\" />\n",
      "\n",
      "\n",
      "\n",
      "<img src=\"https://i2.wp.com/www.instructables.com/files/deriv/FX0/QLMO/HMMF5O43/FX0QLMOHMMF5O43.MEDIUM.jpg?w=800\" alt=\"Vegetal slice\" data-recalc-dims=\"1\" />\n",
      "\n"
     ]
    }
   ],
   "source": [
    "test = open(hugoPath[0], \"r\")\n",
    "for line in test:\n",
    "    print(line)\n",
    "    "
   ]
  },
  {
   "cell_type": "code",
   "execution_count": 150,
   "metadata": {},
   "outputs": [],
   "source": [
    "newFile.close()"
   ]
  },
  {
   "cell_type": "code",
   "execution_count": 154,
   "metadata": {},
   "outputs": [
    {
     "data": {
      "text/plain": [
       "'---\\n'"
      ]
     },
     "execution_count": 154,
     "metadata": {},
     "output_type": "execute_result"
    }
   ],
   "source": [
    "line.replace(\"layout: page\", \"layout: post\")"
   ]
  },
  {
   "cell_type": "code",
   "execution_count": 123,
   "metadata": {},
   "outputs": [],
   "source": [
    "test = line.replace(\"layout: page\", \"layout: post\")"
   ]
  },
  {
   "cell_type": "code",
   "execution_count": 124,
   "metadata": {},
   "outputs": [
    {
     "data": {
      "text/plain": [
       "'&nbsp;\\n'"
      ]
     },
     "execution_count": 124,
     "metadata": {},
     "output_type": "execute_result"
    }
   ],
   "source": [
    "test"
   ]
  },
  {
   "cell_type": "code",
   "execution_count": null,
   "metadata": {},
   "outputs": [],
   "source": []
  }
 ],
 "metadata": {
  "kernelspec": {
   "display_name": "Python 3",
   "language": "python",
   "name": "python3"
  },
  "language_info": {
   "codemirror_mode": {
    "name": "ipython",
    "version": 3
   },
   "file_extension": ".py",
   "mimetype": "text/x-python",
   "name": "python",
   "nbconvert_exporter": "python",
   "pygments_lexer": "ipython3",
   "version": "3.7.3"
  }
 },
 "nbformat": 4,
 "nbformat_minor": 4
}
